{
 "cells": [
  {
   "cell_type": "code",
   "execution_count": null,
   "metadata": {},
   "outputs": [],
   "source": [
    "import sys\n",
    "import os\n",
    "\n",
    "project_root = os.path.abspath('..')\n",
    "if project_root not in sys.path:\n",
    "    sys.path.append(project_root)\n",
    "\n",
    "%load_ext autoreload\n",
    "%autoreload 2"
   ]
  },
  {
   "cell_type": "code",
   "execution_count": null,
   "metadata": {},
   "outputs": [],
   "source": [
    "import pandas as pd\n",
    "import numpy as np\n",
    "\n",
    "import matplotlib.pyplot as plt\n",
    "import seaborn as sns\n",
    "\n",
    "from src.features.build_features import obtener_diccionario_mai\n",
    "\n",
    "sns.set_style()\n",
    "plt.rcParams['figure.figsize'] = (12, 6)"
   ]
  },
  {
   "cell_type": "code",
   "execution_count": null,
   "metadata": {},
   "outputs": [],
   "source": [
    "codigos_mai = obtener_diccionario_mai()"
   ]
  },
  {
   "cell_type": "markdown",
   "metadata": {},
   "source": [
    "## 1. Calculo de tiempo en pabellón para cada uno de los procedimientos\n",
    "\n",
    "En este cuadernillo se quiere responder a las siguientes preguntas:\n",
    "\n",
    "1. ¿Cuánto es el tiempo que se demora cada procedimiento en pabellón en el INT?\n",
    "2. ¿Cómo es el perfil del tiempo en pabellón para cada procedimiento por separado? ¿Este perfil\n",
    "cambia a lo largo de los años?\n",
    "\n",
    "\n",
    "### 1.1 Calculo de control interno de la duración\n",
    " \n",
    "Una de las primeras interrogantes que se quiere responder es sobre la columna de duración\n",
    "actualmente incluida en la base de datos. En primer lugar, se quiere saber si es que la duración\n",
    "esta correctamente calculada."
   ]
  },
  {
   "cell_type": "code",
   "execution_count": null,
   "metadata": {},
   "outputs": [],
   "source": [
    "df = pd.read_csv(\"../data/interim/df_procesada.csv\", sep=\";\", encoding=\"latin-1\")\n",
    "df = df.merge(codigos_mai, left_on=\"codigo_i\", right_on=\"CODIGO\", how=\"left\")\n",
    "df[\"fecha\"] = pd.to_datetime(df[\"fecha\"])\n",
    "\n",
    "COLS_HORAS = list(df.columns[df.columns.str.startswith(\"h_\")])\n",
    "df[COLS_HORAS] = df[COLS_HORAS].apply(lambda x: pd.to_datetime(x, format=\"%H:%M:%S\"))\n",
    "\n",
    "salida_menor_a_entrada = df[\"h_salida\"] < df[\"h_entrada\"]\n",
    "df.loc[salida_menor_a_entrada, \"h_salida\"] = df.loc[\n",
    "    salida_menor_a_entrada, \"h_salida\"\n",
    "] + pd.DateOffset(days=1)\n",
    "\n",
    "df[\"duracion_calculada\"] = df[\"h_salida\"] - df[\"h_entrada\"]\n",
    "df[\"duracion_calculada_en_str\"] = df[\"duracion_calculada\"].astype(str).str.split(\" \").str[-1]\n",
    "df[\"duracion_calculada_horas\"] = df[\"duracion_calculada\"] / pd.Timedelta(hours=1)"
   ]
  },
  {
   "cell_type": "code",
   "execution_count": null,
   "metadata": {},
   "outputs": [],
   "source": [
    "display(df[[\"duracion\", \"duracion_calculada_en_str\"]])"
   ]
  },
  {
   "cell_type": "markdown",
   "metadata": {},
   "source": [
    "De forma general se observa que las duraciones son exactamente iguales entre si en los ejemplos\n",
    "mostrados en pantalla. Sin embargo, es necesario saber si es qu existe alguna diferencia."
   ]
  },
  {
   "cell_type": "code",
   "execution_count": null,
   "metadata": {},
   "outputs": [],
   "source": [
    "display(df[df[\"duracion\"] != df[\"duracion_calculada_en_str\"]].dropna(subset=\"duracion\"))"
   ]
  },
  {
   "cell_type": "markdown",
   "metadata": {},
   "source": [
    "Se puede observar que solamente 6 registros (de 15897) tuvieron una diferencia en la duración calculada.\n",
    "En estos casos, se utilizará la duración calculada."
   ]
  },
  {
   "cell_type": "markdown",
   "metadata": {},
   "source": [
    "### 1.2 Obtención de duración por tipo de operación"
   ]
  },
  {
   "cell_type": "markdown",
   "metadata": {},
   "source": [
    "En este análisis se quiere ver la distribución de la duración de cada operación realizada en el INT."
   ]
  },
  {
   "cell_type": "code",
   "execution_count": null,
   "metadata": {},
   "outputs": [],
   "source": [
    "sns.histplot(data=df, x=\"duracion_calculada_horas\", hue=\"codigo_i\", element=\"step\", kde=True)"
   ]
  },
  {
   "cell_type": "markdown",
   "metadata": {},
   "source": [
    "En este gráfico se puede observar la distribución de todas las operaciones realizadas en el INT,\n",
    "sin distinción entre años."
   ]
  },
  {
   "cell_type": "code",
   "execution_count": null,
   "metadata": {},
   "outputs": [],
   "source": [
    "for operacion in df[\"codigo_i\"].unique():\n",
    "    df_operacion = df.query(\"codigo_i == @operacion\")\n",
    "    nombre_operacion = str(df_operacion[\"GLOSA PRESTACION\"].iloc[0])[:100]\n",
    "    sns.histplot(data=df_operacion, x=\"duracion_calculada_horas\", element=\"step\", kde=True)\n",
    "    plt.title(f\"{operacion} {nombre_operacion} - n = {df_operacion.shape[0]}\")\n",
    "    plt.show()"
   ]
  },
  {
   "cell_type": "code",
   "execution_count": null,
   "metadata": {},
   "outputs": [],
   "source": [
    "resumen_duracion = df.groupby([df[\"fecha\"].dt.year, \"codigo_i\", \"GLOSA PRESTACION\"], dropna=False)[\n",
    "    \"duracion_calculada_horas\"\n",
    "].describe()"
   ]
  },
  {
   "cell_type": "code",
   "execution_count": null,
   "metadata": {},
   "outputs": [],
   "source": [
    "display(resumen_duracion)"
   ]
  },
  {
   "cell_type": "markdown",
   "metadata": {},
   "source": [
    "Finalmente, se puede ver la distribución de cada operación realizada en cada año."
   ]
  }
 ],
 "metadata": {
  "language_info": {
   "name": "python"
  }
 },
 "nbformat": 4,
 "nbformat_minor": 2
}
