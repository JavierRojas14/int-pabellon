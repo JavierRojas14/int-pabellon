{
 "cells": [
  {
   "cell_type": "code",
   "execution_count": null,
   "metadata": {},
   "outputs": [],
   "source": [
    "import sys\n",
    "import os\n",
    "\n",
    "project_root = os.path.abspath('..')\n",
    "if project_root not in sys.path:\n",
    "    sys.path.append(project_root)\n",
    "\n",
    "%load_ext autoreload\n",
    "%autoreload 2"
   ]
  },
  {
   "cell_type": "code",
   "execution_count": null,
   "metadata": {},
   "outputs": [],
   "source": [
    "import pandas as pd\n",
    "import numpy as np\n",
    "\n",
    "import matplotlib.pyplot as plt\n",
    "import seaborn as sns\n",
    "\n",
    "sns.set_style()\n",
    "plt.rcParams['figure.figsize'] = (12, 6)"
   ]
  },
  {
   "cell_type": "markdown",
   "metadata": {},
   "source": [
    "## 1. Calculo de tiempo en pabellón para cada uno de los procedimientos\n",
    "\n",
    "En este cuadernillo se quiere responder a las siguientes preguntas:\n",
    "\n",
    "1. ¿Cuánto es el tiempo que se demora cada procedimiento en pabellón en el INT?\n",
    "2. ¿Cómo es el perfil del tiempo en pabellón para cada procedimiento por separado? ¿Este perfil\n",
    "cambia a lo largo de los años?\n",
    "\n",
    "Una de las primeras interrogantes que se quiere responder es sobre la columna de duración\n",
    "actualmente incluida en la base de datos. En primer lugar, se quiere saber si es que la duración\n",
    "esta correctamente calculada."
   ]
  },
  {
   "cell_type": "code",
   "execution_count": null,
   "metadata": {},
   "outputs": [],
   "source": [
    "df = pd.read_csv(\"../data/interim/df_procesada.csv\", sep=\";\", encoding=\"latin-1\")\n",
    "df[\"fecha\"] = pd.to_datetime(df[\"fecha\"])\n",
    "\n",
    "COLS_HORAS = list(df.columns[df.columns.str.startswith(\"h_\")])\n",
    "df[COLS_HORAS] = df[COLS_HORAS].apply(lambda x: pd.to_datetime(x, format=\"%H:%M:%S\"))\n",
    "\n",
    "salida_menor_a_entrada = df[\"h_salida\"] < df[\"h_entrada\"]\n",
    "df.loc[salida_menor_a_entrada, \"h_salida\"] = df.loc[\n",
    "    salida_menor_a_entrada, \"h_salida\"\n",
    "] + pd.DateOffset(days=1)\n",
    "\n",
    "df[\"duracion_calculada\"] = df[\"h_salida\"] - df[\"h_entrada\"]\n",
    "df[\"duracion_calculada_en_str\"] = df[\"duracion_calculada\"].astype(str).str.split(\" \").str[-1]"
   ]
  },
  {
   "cell_type": "code",
   "execution_count": null,
   "metadata": {},
   "outputs": [],
   "source": [
    "display(df[[\"duracion\", \"duracion_calculada_en_str\"]])"
   ]
  },
  {
   "cell_type": "markdown",
   "metadata": {},
   "source": [
    "De forma general se observa que las duraciones son exactamente iguales entre si en los ejemplos\n",
    "mostrados en pantalla. Sin embargo, es necesario saber si es qu existe alguna diferencia."
   ]
  },
  {
   "cell_type": "code",
   "execution_count": null,
   "metadata": {},
   "outputs": [],
   "source": [
    "display(df[df[\"duracion\"] != df[\"duracion_calculada_en_str\"]].dropna(subset=\"duracion\"))"
   ]
  },
  {
   "cell_type": "markdown",
   "metadata": {},
   "source": [
    "Se puede observar que solamente 6 registros (de 15897) tuvieron una diferencia en la duración calculada.\n",
    "En estos casos, se utilizará la duración calculada."
   ]
  },
  {
   "cell_type": "code",
   "execution_count": null,
   "metadata": {},
   "outputs": [],
   "source": []
  }
 ],
 "metadata": {
  "language_info": {
   "name": "python"
  }
 },
 "nbformat": 4,
 "nbformat_minor": 2
}
