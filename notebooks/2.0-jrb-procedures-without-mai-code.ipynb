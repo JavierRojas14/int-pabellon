{
 "cells": [
  {
   "cell_type": "code",
   "execution_count": null,
   "metadata": {},
   "outputs": [],
   "source": [
    "import sys\n",
    "import os\n",
    "\n",
    "project_root = os.path.abspath('..')\n",
    "if project_root not in sys.path:\n",
    "    sys.path.append(project_root)\n",
    "\n",
    "%load_ext autoreload\n",
    "%autoreload 2"
   ]
  },
  {
   "cell_type": "code",
   "execution_count": null,
   "metadata": {},
   "outputs": [],
   "source": [
    "import pandas as pd\n",
    "import numpy as np\n",
    "\n",
    "import matplotlib.pyplot as plt\n",
    "import seaborn as sns\n",
    "\n",
    "from src.features.build_features import obtener_diccionario_mai\n",
    "\n",
    "sns.set_style()\n",
    "plt.rcParams['figure.figsize'] = (12, 6)"
   ]
  },
  {
   "cell_type": "code",
   "execution_count": null,
   "metadata": {},
   "outputs": [],
   "source": [
    "codigos_mai = obtener_diccionario_mai()"
   ]
  },
  {
   "cell_type": "markdown",
   "metadata": {},
   "source": [
    "## 1. Análisis de procedimientos sin código MAI\n",
    "\n",
    "En este cuadernillo se quiere realizar un control de calidad sobre los códigos ingresados\n",
    "para cada procedimiento efectuado. En específico, se quieren responder las siguientes preguntas:\n",
    "\n",
    "1. ¿Hay códigos que estén ausentes en el arancel MAI?\n",
    "2. De los 1, ¿Cuál es el nombre de la operación ingresada manualmente?\n",
    "3. De los 1, ¿Existen distintas glosas ingresadas para un mismo código?"
   ]
  },
  {
   "cell_type": "code",
   "execution_count": null,
   "metadata": {},
   "outputs": [],
   "source": [
    "df = pd.read_csv(\"../data/processed/df_procesada.csv\", encoding=\"latin-1\", sep=\";\")\n",
    "df = df.merge(codigos_mai, how=\"left\", left_on=\"codigo_i\", right_on=\"CODIGO\")\n",
    "df[\"codigo_i\"] = df[\"codigo_i\"].astype(str).replace(\"0\", np.nan)"
   ]
  },
  {
   "cell_type": "code",
   "execution_count": null,
   "metadata": {},
   "outputs": [],
   "source": [
    "codigos_sin_mai = df[\"codigo_i\"].notna() & df[\"GLOSA PRESTACION\"].isna()\n",
    "df_codigos_sin_mai = df[codigos_sin_mai]"
   ]
  },
  {
   "cell_type": "code",
   "execution_count": null,
   "metadata": {},
   "outputs": [],
   "source": [
    "display(df_codigos_sin_mai.head(5))"
   ]
  },
  {
   "cell_type": "markdown",
   "metadata": {},
   "source": [
    "En este caso se identifican los procedimientos de pabellón en donde el código asignado no se\n",
    "encontró en el diccionario MAI. Sin embargo, se puede observar que tales operaciones si se les\n",
    "asignó un nombre de la operación. Por lo tanto, es posible identificar qué nombres se les\n",
    "ha asignado a cada código."
   ]
  },
  {
   "cell_type": "code",
   "execution_count": null,
   "metadata": {},
   "outputs": [],
   "source": [
    "codigos_sin_mai_con_sus_glosas = df_codigos_sin_mai.groupby([\"codigo_i\"])[\n",
    "    \"nombre_de_la_operacion\"\n",
    "].value_counts()"
   ]
  },
  {
   "cell_type": "code",
   "execution_count": null,
   "metadata": {},
   "outputs": [],
   "source": [
    "display(codigos_sin_mai_con_sus_glosas)"
   ]
  },
  {
   "cell_type": "markdown",
   "metadata": {},
   "source": [
    "Finalmente, se pueden identificar los nombres asignado a cada código. De forma general, se observa\n",
    "que un código puede tener muchas glosas distintas."
   ]
  },
  {
   "cell_type": "code",
   "execution_count": null,
   "metadata": {},
   "outputs": [],
   "source": [
    "codigos_sin_mai_con_sus_glosas.to_excel(\"../data/interim/codigos_sin_mai_y_glosas.xlsx\")"
   ]
  }
 ],
 "metadata": {
  "language_info": {
   "name": "python"
  }
 },
 "nbformat": 4,
 "nbformat_minor": 2
}
