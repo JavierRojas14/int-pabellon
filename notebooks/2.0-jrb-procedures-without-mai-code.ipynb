{
 "cells": [
  {
   "cell_type": "code",
   "execution_count": null,
   "metadata": {},
   "outputs": [],
   "source": [
    "import sys\n",
    "import os\n",
    "\n",
    "project_root = os.path.abspath('..')\n",
    "if project_root not in sys.path:\n",
    "    sys.path.append(project_root)\n",
    "\n",
    "%load_ext autoreload\n",
    "%autoreload 2"
   ]
  },
  {
   "cell_type": "code",
   "execution_count": null,
   "metadata": {},
   "outputs": [],
   "source": [
    "import pandas as pd\n",
    "import numpy as np\n",
    "\n",
    "import matplotlib.pyplot as plt\n",
    "import seaborn as sns\n",
    "\n",
    "from src.features.build_features import obtener_diccionario_mai\n",
    "\n",
    "sns.set_style()\n",
    "plt.rcParams['figure.figsize'] = (12, 6)"
   ]
  },
  {
   "cell_type": "code",
   "execution_count": null,
   "metadata": {},
   "outputs": [],
   "source": [
    "codigos_mai = obtener_diccionario_mai()"
   ]
  },
  {
   "cell_type": "markdown",
   "metadata": {},
   "source": [
    "## 1. Análisis de procedimientos sin código MAI\n",
    "\n",
    "En este cuadernillo se quiere realizar un control de calidad sobre los códigos ingresados\n",
    "para cada procedimiento efectuado. En específico, se quieren responder las siguientes preguntas:\n",
    "\n",
    "1. ¿Hay códigos que estén ausentes en el arancel MAI?\n",
    "2. De los 1, ¿Cuál es el nombre de la operación ingresada manualmente?\n",
    "3. De los 1, ¿Existen distintas glosas ingresadas para un mismo código?"
   ]
  },
  {
   "cell_type": "code",
   "execution_count": null,
   "metadata": {},
   "outputs": [],
   "source": [
    "df = pd.read_csv(\"../data/processed/df_procesada.csv\", encoding=\"latin-1\", sep=\";\")\n",
    "df = df.merge(codigos_mai, how=\"left\", left_on=\"codigo_i\", right_on=\"CODIGO\")"
   ]
  }
 ],
 "metadata": {
  "language_info": {
   "name": "python"
  }
 },
 "nbformat": 4,
 "nbformat_minor": 2
}
